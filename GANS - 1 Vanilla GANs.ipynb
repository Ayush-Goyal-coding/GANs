{
 "cells": [
  {
   "cell_type": "code",
   "execution_count": 1,
   "metadata": {},
   "outputs": [
    {
     "name": "stderr",
     "output_type": "stream",
     "text": [
      "Using TensorFlow backend.\n"
     ]
    }
   ],
   "source": [
    "import tensorflow as tf\n",
    "import pandas as pd\n",
    "import numpy as np\n",
    "\n",
    "import matplotlib.pyplot as plt\n",
    "import os\n",
    "import sys\n",
    "import keras"
   ]
  },
  {
   "cell_type": "code",
   "execution_count": 2,
   "metadata": {},
   "outputs": [],
   "source": [
    "from keras.layers import Input, Dense, Reshape, Flatten\n",
    "from keras.layers import Activation\n",
    "from keras.layers.advanced_activations import LeakyReLU\n",
    "from keras.models import Sequential, Model\n",
    "from keras.optimizers import Adam"
   ]
  },
  {
   "cell_type": "markdown",
   "metadata": {},
   "source": [
    "## Loading MNIST Dataset"
   ]
  },
  {
   "cell_type": "markdown",
   "metadata": {},
   "source": [
    "Loading Images for training"
   ]
  },
  {
   "cell_type": "code",
   "execution_count": 3,
   "metadata": {},
   "outputs": [],
   "source": [
    "dir_path = os.getcwd()"
   ]
  },
  {
   "cell_type": "code",
   "execution_count": 4,
   "metadata": {},
   "outputs": [
    {
     "data": {
      "text/plain": [
       "<matplotlib.image.AxesImage at 0x7fdb460568d0>"
      ]
     },
     "execution_count": 4,
     "metadata": {},
     "output_type": "execute_result"
    },
    {
     "data": {
      "image/png": "[encoded data removed]",
      "text/plain": [
       "<Figure size 432x288 with 1 Axes>"
      ]
     },
     "metadata": {},
     "output_type": "display_data"
    }
   ],
   "source": [
    "f = open(dir_path+'/train-images.idx3-ubyte')\n",
    "loaded = np.fromfile(f,np.uint8)\n",
    "\n",
    "trX = loaded[16:].reshape((60000,28,28)).astype(float)\n",
    "\n",
    "plt.imshow(trX[8],cmap='Greys')"
   ]
  },
  {
   "cell_type": "markdown",
   "metadata": {},
   "source": [
    "Loading labels for corrosponding image"
   ]
  },
  {
   "cell_type": "code",
   "execution_count": 5,
   "metadata": {},
   "outputs": [
    {
     "data": {
      "text/plain": [
       "1"
      ]
     },
     "execution_count": 5,
     "metadata": {},
     "output_type": "execute_result"
    }
   ],
   "source": [
    "f = open(dir_path+'/train-labels.idx1-ubyte')\n",
    "loaded = np.fromfile(f,np.uint8)\n",
    "trY = loaded[8:].reshape(60000).astype('uint8')\n",
    "trY[8]"
   ]
  },
  {
   "cell_type": "markdown",
   "metadata": {},
   "source": [
    "## Generator"
   ]
  },
  {
   "cell_type": "markdown",
   "metadata": {},
   "source": [
    "Generator part of GANs\n",
    "\n",
    "This needs to take noise as input and generate Image samples as output"
   ]
  },
  {
   "cell_type": "code",
   "execution_count": null,
   "metadata": {},
   "outputs": [],
   "source": [
    "def generator2(X_inputs):\n",
    "    \n",
    "    X_inputs = tf.keras.layers.Flatten()\n",
    "    print(X_inputs)\n",
    "    #dense layer\n",
    "    X1 = tf.layers.dense(X_inputs,units=128)\n",
    "    print(X1)\n",
    "    X2 = tf.nn.relu(X1)\n",
    "    #output layer\n",
    "    print(X2)\n",
    "    X3 = tf.layers.dense(X2,units=784,activation='tanh') #error : 'str' object is not callable\n",
    "    X = tf.reshape(X3,(28,28,1))\n",
    "    return X"
   ]
  },
  {
   "cell_type": "code",
   "execution_count": 8,
   "metadata": {},
   "outputs": [],
   "source": [
    "def generator(X_input):\n",
    "    \n",
    "    # Hidden layer with leaky relu\n",
    "    X = Dense(units=128,name = 'Gen_Dense1')(X_input)\n",
    "    X = LeakyReLU()(X)\n",
    "    X = Dense(units=128,name = 'Gen_Dense1.1')(X)\n",
    "    X = LeakyReLU()(X)\n",
    "\n",
    "    # Output Layer\n",
    "    X = Dense(units = 28*28,activation='relu',name = 'Gen_Dense2')(X)\n",
    "    \n",
    "    # Reshape output layer to the size of image \n",
    "    X = Reshape(target_shape=(28,28))(X)\n",
    "    return X\n",
    "    "
   ]
  },
  {
   "cell_type": "markdown",
   "metadata": {},
   "source": [
    "Let's Test the Above function by and check the vale"
   ]
  },
  {
   "cell_type": "code",
   "execution_count": 9,
   "metadata": {},
   "outputs": [
    {
     "name": "stdout",
     "output_type": "stream",
     "text": [
      "(2, 28, 28)\n",
      "<type 'numpy.ndarray'>\n"
     ]
    },
    {
     "data": {
      "image/png": "[encoded data removed]",
      "text/plain": [
       "<Figure size 432x288 with 1 Axes>"
      ]
     },
     "metadata": {},
     "output_type": "display_data"
    }
   ],
   "source": [
    "tf.reset_default_graph()\n",
    "with tf.Session() as test:\n",
    "    \n",
    "    X1 = np.random.rand(2,100)\n",
    "    X_i = tf.placeholder(\"float\",shape=[None,100])\n",
    "    los = generator(X_i)\n",
    "    test.run(tf.global_variables_initializer())\n",
    "    feed_dic = {\n",
    "        X_i : X1\n",
    "    }\n",
    "    out = test.run(los,feed_dict=feed_dic)\n",
    "    print(out.shape)\n",
    "    print(type(out))\n",
    "    plt.imshow(out[0],cmap='gray')\n"
   ]
  },
  {
   "cell_type": "markdown",
   "metadata": {},
   "source": [
    "## Discriminator"
   ]
  },
  {
   "cell_type": "markdown",
   "metadata": {},
   "source": [
    "This should Take 28x28 image as input and predict whether the data was fake or real"
   ]
  },
  {
   "cell_type": "code",
   "execution_count": 10,
   "metadata": {},
   "outputs": [],
   "source": [
    "def Discriminator(X_input):\n",
    "    \n",
    "    # Flatten the image to pass it through nn\n",
    "    X = Flatten()(X_input)\n",
    "    \n",
    "    # Hidden Layer\n",
    "    X = Dense(units=128)(X)\n",
    "    X = LeakyReLU(alpha=.01)(X)\n",
    "    \n",
    "    #Output Layer to predict fake or real\n",
    "    X = Dense(units=1,activation='sigmoid')(X)\n",
    "    return X\n",
    "    "
   ]
  },
  {
   "cell_type": "markdown",
   "metadata": {},
   "source": [
    "snippet to test above code"
   ]
  },
  {
   "cell_type": "code",
   "execution_count": 11,
   "metadata": {},
   "outputs": [
    {
     "name": "stdout",
     "output_type": "stream",
     "text": [
      "(1, 1)\n",
      "<type 'numpy.ndarray'>\n"
     ]
    }
   ],
   "source": [
    "tf.reset_default_graph()\n",
    "with tf.Session() as test:\n",
    "    \n",
    "    X1 = np.random.rand(1,28,28)\n",
    "    X_i = tf.placeholder(\"float\",shape=[None,28,28])\n",
    "    los = Discriminator(X_i)\n",
    "    test.run(tf.global_variables_initializer())\n",
    "    feed_dic = {\n",
    "        X_i : X1\n",
    "    }\n",
    "    out = test.run(los,feed_dict=feed_dic)\n",
    "    print(out.shape)\n",
    "    print(type(out))\n"
   ]
  },
  {
   "cell_type": "code",
   "execution_count": 12,
   "metadata": {},
   "outputs": [],
   "source": [
    "def Discrimantor_model(X_input_shape = (28,28)):\n",
    "    X_input = Input(X_input_shape)\n",
    "    X = Discriminator(X_input)\n",
    "    model = Model(X_input,X,name = 'discriminator')\n",
    "    return model"
   ]
  },
  {
   "cell_type": "code",
   "execution_count": 13,
   "metadata": {},
   "outputs": [],
   "source": [
    "def Generator(X_input_shape = 100):\n",
    "    X_input = Input(shape=(X_input_shape,))\n",
    "    X = generator(X_input)\n",
    "    model = Model(X_input,X,name = 'Generator')\n",
    "    return model"
   ]
  },
  {
   "cell_type": "markdown",
   "metadata": {},
   "source": [
    "## Build the Model"
   ]
  },
  {
   "cell_type": "markdown",
   "metadata": {},
   "source": [
    "    D_loss = sum(log(D)+log(1-D_G))\n",
    "=>  D_loss = (x.log(D)) + (1-x)(log(1-D_G))\n",
    "\n",
    "where x = 1 when images are real and 0 when images are fake\n",
    "This is inturn Binary Entropy"
   ]
  },
  {
   "cell_type": "markdown",
   "metadata": {},
   "source": [
    "This below is all models required to train \n",
    "We are using 2 Models.\n",
    "\n",
    "1. Discrimanator:\n",
    "   This is a simple NN so it will take img as i/p and try to predict real/fake as output\n",
    "   \n",
    "   \n",
    "2. Combined (generator image passed by Discrimanator): \n",
    "   This takes passes Generated Image as input to Discrimator. It should always o/p 1 as Discrimanator o/p should be predicted as real \n"
   ]
  },
  {
   "cell_type": "markdown",
   "metadata": {},
   "source": [
    "## Train and execute"
   ]
  },
  {
   "cell_type": "code",
   "execution_count": 14,
   "metadata": {},
   "outputs": [],
   "source": [
    "def gen_loss(y_true,y_pred):\n",
    "    loss = tf.log((y_true-y_pred))\n",
    "    return loss"
   ]
  },
  {
   "cell_type": "code",
   "execution_count": 15,
   "metadata": {},
   "outputs": [],
   "source": [
    "batch_size = 100\n",
    "\n",
    "# Discrimanator\n",
    "dis_model = Discrimantor_model()\n",
    "dis_model.compile(optimizer='adam',loss='binary_crossentropy',metrics=['accuracy'])\n",
    "\n",
    "# Build the Generator\n",
    "gen_model = Generator()\n",
    "\n",
    "# Generated image to be used as input\n",
    "z = Input(shape=(100,))\n",
    "fake_img = gen_model(z)\n",
    "\n",
    "# No change in dis while Discrimantor is chaned\n",
    "dis_model.trainable= False\n",
    "\n",
    "pred = dis_model(fake_img)  # D(G(z))\n",
    "\n",
    "combined_model = Model(z,pred)  \n",
    "combined_model.compile(optimizer='adam',loss=gen_loss)\n",
    "\n",
    "# loss_d = tf.reduce_sum(tf.log(D)+tf.log(1-D_G))  # loss by discrimanator\n",
    "# loss_g = tf.log(1-D_G)                           # loss by generator\n",
    "\n"
   ]
  },
  {
   "cell_type": "code",
   "execution_count": 15,
   "metadata": {},
   "outputs": [],
   "source": [
    "def sample_images(iteration, image_grid_rows=4, image_grid_columns=4):\n",
    "\n",
    "    # Sample random noise\n",
    "    z = np.random.normal(0, 1, \n",
    "              (image_grid_rows * image_grid_columns, 100))\n",
    "\n",
    "    # Generate images from random noise \n",
    "    gen_imgs = gen_model.predict(z)\n",
    "\n",
    "    # Rescale images to 0-1\n",
    "    gen_imgs = 0.5 * gen_imgs + 0.5\n",
    "\n",
    "    \n",
    "    # Set image grid\n",
    "    fig, axs = plt.subplots(image_grid_rows, image_grid_columns, \n",
    "                                    figsize=(4,4), sharey=True, sharex=True)\n",
    "    \n",
    "    cnt = 0\n",
    "    for i in range(image_grid_rows):\n",
    "        for j in range(image_grid_columns):\n",
    "            # Output image grid\n",
    "            axs[i,j].imshow(gen_imgs[cnt, :,:], cmap='gray')\n",
    "            axs[i,j].axis('off')\n",
    "            cnt += 1\n",
    "    plt.savefig('Results/iter'+str(iteration)+'.png')\n"
   ]
  },
  {
   "cell_type": "markdown",
   "metadata": {},
   "source": [
    "Adding noise should help according to some sources"
   ]
  },
  {
   "cell_type": "code",
   "execution_count": 17,
   "metadata": {},
   "outputs": [],
   "source": [
    "iterations = 500\n",
    "losses = []\n",
    "Accuracy = []\n",
    "save_iter = 100\n",
    "# Normalize Training Set\n",
    "trX = trX/127.5 - 1\n",
    "\n",
    "# Labels for real and fake examples\n",
    "real = np.ones((batch_size, 1))\n",
    "fake = np.zeros((batch_size, 1))\n",
    "\n",
    "for i in range(iterations):\n",
    "        \n",
    "        #  Train the Discriminator\n",
    "        # This is a simple NN so it will take img as i/p and try to predict real/fake as output\n",
    "\n",
    "        # Select a random batch of real images\n",
    "        idx = np.random.randint(0, trX.shape[0], batch_size)\n",
    "        real_imgs = trX[idx]+ np.random.normal(0,0.1,trX[idx].shape)\n",
    "\n",
    "\n",
    "        # Generate a batch of fake images\n",
    "        z = np.random.rand(batch_size, 100)\n",
    "        fake_imgs = gen_model.predict(z)\n",
    "        \n",
    "        # Discriminator loss\n",
    "        d_loss_real = dis_model.train_on_batch(real_imgs, real)\n",
    "        d_loss_fake = dis_model.train_on_batch(fake_imgs, fake)\n",
    "        \n",
    "        # Summing over all losses and divinging by batch size i.e avg them\n",
    "        d_loss = 0.5 * np.add(d_loss_real, d_loss_fake)\n",
    "        \n",
    "        \n",
    "        #  Train the Generator\n",
    "        # we want Discrimator prediction to be real always so expected output would be 1\n",
    "        # and input is some random variable X to make images\n",
    "\n",
    "    \n",
    "        # Generate a batch of fake images\n",
    "        z = np.random.rand(batch_size, 100)\n",
    "        gen_imgs = gen_model.predict(z)\n",
    "\n",
    "        # Generator loss - where model failed to fool fake_img as real by Dis  \n",
    "        g_loss = combined_model.train_on_batch(z, real)\n",
    "\n",
    "\n",
    "        if i % save_iter == 0:\n",
    "            \n",
    "            # Output training progress\n",
    "            print (\"%d [D loss: %f, acc.: %.2f%%] [G loss: %f]\" % \n",
    "                         (i, d_loss[0], 100*d_loss[1], g_loss))\n",
    "            \n",
    "            # Save losses and accuracies so they can be plotted after training\n",
    "            losses.append((d_loss[0], g_loss))\n",
    "            Accuracy.append(100*d_loss[1])\n",
    "\n",
    "            # Output generated image samples \n",
    "            sample_images(i)\n",
    "        "
   ]
  },
  {
   "cell_type": "markdown",
   "metadata": {},
   "source": [
    "## Alternate way"
   ]
  },
  {
   "cell_type": "markdown",
   "metadata": {},
   "source": [
    "Trying a different way with the cost function said in the paper"
   ]
  },
  {
   "cell_type": "code",
   "execution_count": 14,
   "metadata": {},
   "outputs": [
    {
     "name": "stdout",
     "output_type": "stream",
     "text": [
      "0 [D loss: -inf] [G loss: -1.012513]\n",
      "100 [D loss: -1.305150] [G loss: -1.005117]\n",
      "200 [D loss: -inf] [G loss: -0.993086]\n",
      "300 [D loss: -5.314338] [G loss: -1.009543]\n",
      "400 [D loss: -4.415679] [G loss: -1.003736]\n",
      "500 [D loss: -3.528258] [G loss: -1.007100]\n",
      "600 [D loss: -2.784455] [G loss: -0.997856]\n",
      "700 [D loss: -6.266065] [G loss: -1.006130]\n",
      "800 [D loss: -2.262588] [G loss: -1.009227]\n",
      "900 [D loss: -inf] [G loss: -1.004827]\n"
     ]
    },
    {
     "data": {
      "image/png": "[encoded data removed]",
      "text/plain": [
       "<Figure size 432x288 with 1 Axes>"
      ]
     },
     "metadata": {},
     "output_type": "display_data"
    }
   ],
   "source": [
    "iterations = 1000\n",
    "save_iter = 100\n",
    "batch_size = 100\n",
    "\n",
    "tf.reset_default_graph()\n",
    "\n",
    "dis_in = tf.placeholder(\"float\",shape=[None,28,28])\n",
    "gen_in = tf.placeholder(\"float\",shape=[None,100])\n",
    "\n",
    "pred_fake = Discriminator(generator(gen_in))+0.000000001 # D(G(z))\n",
    "pred_real = Discriminator(dis_in+0.00000001) # D(x)\n",
    "\n",
    "# define the loss functions\n",
    "loss_d = tf.reduce_sum(tf.log(pred_real) + tf.log(1 - pred_fake))/batch_size\n",
    "loss_g = tf.reduce_sum(tf.log(1 - pred_fake))/batch_size\n",
    "\n",
    "\n",
    "# training steps\n",
    "optimizer = tf.train.AdamOptimizer()\n",
    "train_step_d = optimizer.minimize(loss_d)\n",
    "train_step_g = optimizer.minimize(loss_g)\n",
    "\n",
    "# train the model\n",
    "loss_d_list = []\n",
    "loss_g_list = []\n",
    "\n",
    "\n",
    "for i in range(iterations):\n",
    "    sess = tf.Session()\n",
    "    sess.run(tf.global_variables_initializer())\n",
    "    \n",
    "    # Select a random batch of real images\n",
    "    idx = np.random.randint(0, trX.shape[0], batch_size)\n",
    "    real_imgs = trX[idx]+ np.random.normal(0,0.1,trX[idx].shape)\n",
    "\n",
    "    z = np.random.normal(0,1,(batch_size,100))\n",
    "    # train discriminator\n",
    "    sess.run(tf.global_variables_initializer())\n",
    "    feed_dict_d = {gen_in: z\n",
    "        ,dis_in : real_imgs}\n",
    "    _, l_d = sess.run([train_step_d, loss_d], feed_dict = feed_dict_d)\n",
    "    loss_d_list.append(l_d)\n",
    "    \n",
    "    # train generator\n",
    "    z = np.random.rand(batch_size, 100)\n",
    "    feed_dict_g = {gen_in:z\n",
    "                  ,dis_in:real_imgs}\n",
    "    _, l_g = sess.run([train_step_g, loss_g], feed_dict = feed_dict_g)\n",
    "    loss_g_list.append(l_g)\n",
    "    \n",
    "    if i % save_iter == 0:\n",
    "\n",
    "        # Output training progress\n",
    "        print (\"%d [D loss: %f] [G loss: %f]\" % \n",
    "                     (i, l_d,l_g))\n",
    "        \n",
    "        # Output generated image samples\n",
    "\n",
    "        ig = generator(gen_in)\n",
    "        feed_g = {gen_in:z}\n",
    "        sess.run(tf.global_variables_initializer())\n",
    "        img = sess.run(ig,feed_dict = feed_g)\n",
    "        \n",
    "        plt.imshow(img[0],cmap='gray')\n",
    "        plt.savefig('Results/Gans-1/it_'+str(i)+'.png')\n",
    "        \n"
   ]
  },
  {
   "cell_type": "code",
   "execution_count": 15,
   "metadata": {},
   "outputs": [
    {
     "data": {
      "text/plain": [
       "<matplotlib.legend.Legend at 0x7f61a2d3d510>"
      ]
     },
     "execution_count": 15,
     "metadata": {},
     "output_type": "execute_result"
    },
    {
     "data": {
      "image/png": "[encoded data removed]",
      "text/plain": [
       "<Figure size 720x360 with 1 Axes>"
      ]
     },
     "metadata": {},
     "output_type": "display_data"
    }
   ],
   "source": [
    "loss_d = np.array(loss_d_list)\n",
    "loss_g = np.array(loss_g_list)\n",
    "# Plot training losses for Discriminator and Generator\n",
    "plt.figure(figsize=(10,5))\n",
    "plt.plot(loss_d, label=\"Discriminator Loss\")\n",
    "plt.plot(loss_g, label=\"Generator Loss\")\n",
    "plt.title(\"Training Losses\")\n",
    "plt.legend()\n"
   ]
  },
  {
   "cell_type": "markdown",
   "metadata": {},
   "source": [
    "##  Conclusion"
   ]
  },
  {
   "cell_type": "markdown",
   "metadata": {},
   "source": [
    "Both the ways fail here (I have tried with more than 3000 iterations on collab GPU but No improvement could be seen) . Let's try different Architecture"
   ]
  },
  {
   "cell_type": "code",
   "execution_count": null,
   "metadata": {},
   "outputs": [],
   "source": []
  }
 ],
 "metadata": {
  "kernelspec": {
   "display_name": "Python 2",
   "language": "python",
   "name": "python2"
  },
  "language_info": {
   "codemirror_mode": {
    "name": "ipython",
    "version": 2
   },
   "file_extension": ".py",
   "mimetype": "text/x-python",
   "name": "python",
   "nbconvert_exporter": "python",
   "pygments_lexer": "ipython2",
   "version": "2.7.12"
  }
 },
 "nbformat": 4,
 "nbformat_minor": 2
}
